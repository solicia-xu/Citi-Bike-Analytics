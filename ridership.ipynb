{
 "cells": [
  {
   "cell_type": "code",
   "execution_count": 1,
   "metadata": {},
   "outputs": [],
   "source": [
    "import glob\n",
    "import pandas as pd\n",
    "import numpy as np"
   ]
  },
  {
   "cell_type": "code",
   "execution_count": null,
   "metadata": {},
   "outputs": [],
   "source": [
    "ridership = pd.concat([pd.read_csv(f) for f in glob.glob('raw data/*.csv')], ignore_index = True)\n",
    "ridership=ridership.sort_values('Date')"
   ]
  },
  {
   "cell_type": "code",
   "execution_count": 4,
   "metadata": {},
   "outputs": [
    {
     "data": {
      "text/html": [
       "<div>\n",
       "<style scoped>\n",
       "    .dataframe tbody tr th:only-of-type {\n",
       "        vertical-align: middle;\n",
       "    }\n",
       "\n",
       "    .dataframe tbody tr th {\n",
       "        vertical-align: top;\n",
       "    }\n",
       "\n",
       "    .dataframe thead th {\n",
       "        text-align: right;\n",
       "    }\n",
       "</style>\n",
       "<table border=\"1\" class=\"dataframe\">\n",
       "  <thead>\n",
       "    <tr style=\"text-align: right;\">\n",
       "      <th></th>\n",
       "      <th>Date</th>\n",
       "      <th>Trips over the past 24-hours (midnight to 11:59pm)</th>\n",
       "      <th>Miles traveled today (midnight to 11:59 pm)</th>\n",
       "      <th>Total Annual Members (All Time)</th>\n",
       "      <th>24-Hour Passes Purchased (midnight to 11:59 pm)</th>\n",
       "      <th>3-Day Passes Purchased (midnight to 11:59 pm)</th>\n",
       "    </tr>\n",
       "  </thead>\n",
       "  <tbody>\n",
       "    <tr>\n",
       "      <th>71</th>\n",
       "      <td>1/1/19</td>\n",
       "      <td>22145</td>\n",
       "      <td>44131</td>\n",
       "      <td>297823</td>\n",
       "      <td>2429</td>\n",
       "      <td>49</td>\n",
       "    </tr>\n",
       "    <tr>\n",
       "      <th>80</th>\n",
       "      <td>1/10/19</td>\n",
       "      <td>39449</td>\n",
       "      <td>53225</td>\n",
       "      <td>298299</td>\n",
       "      <td>478</td>\n",
       "      <td>13</td>\n",
       "    </tr>\n",
       "    <tr>\n",
       "      <th>81</th>\n",
       "      <td>1/11/19</td>\n",
       "      <td>33196</td>\n",
       "      <td>44226</td>\n",
       "      <td>298331</td>\n",
       "      <td>465</td>\n",
       "      <td>23</td>\n",
       "    </tr>\n",
       "    <tr>\n",
       "      <th>82</th>\n",
       "      <td>1/12/19</td>\n",
       "      <td>25431</td>\n",
       "      <td>35133</td>\n",
       "      <td>298361</td>\n",
       "      <td>772</td>\n",
       "      <td>26</td>\n",
       "    </tr>\n",
       "    <tr>\n",
       "      <th>83</th>\n",
       "      <td>1/13/19</td>\n",
       "      <td>23020</td>\n",
       "      <td>33018</td>\n",
       "      <td>298399</td>\n",
       "      <td>700</td>\n",
       "      <td>18</td>\n",
       "    </tr>\n",
       "  </tbody>\n",
       "</table>\n",
       "</div>"
      ],
      "text/plain": [
       "       Date  Trips over the past 24-hours (midnight to 11:59pm)  \\\n",
       "71   1/1/19                                              22145    \n",
       "80  1/10/19                                              39449    \n",
       "81  1/11/19                                              33196    \n",
       "82  1/12/19                                              25431    \n",
       "83  1/13/19                                              23020    \n",
       "\n",
       "    Miles traveled today (midnight to 11:59 pm)  \\\n",
       "71                                        44131   \n",
       "80                                        53225   \n",
       "81                                        44226   \n",
       "82                                        35133   \n",
       "83                                        33018   \n",
       "\n",
       "    Total Annual Members (All Time)  \\\n",
       "71                           297823   \n",
       "80                           298299   \n",
       "81                           298331   \n",
       "82                           298361   \n",
       "83                           298399   \n",
       "\n",
       "    24-Hour Passes Purchased (midnight to 11:59 pm)  \\\n",
       "71                                             2429   \n",
       "80                                              478   \n",
       "81                                              465   \n",
       "82                                              772   \n",
       "83                                              700   \n",
       "\n",
       "    3-Day Passes Purchased (midnight to 11:59 pm)  \n",
       "71                                             49  \n",
       "80                                             13  \n",
       "81                                             23  \n",
       "82                                             26  \n",
       "83                                             18  "
      ]
     },
     "execution_count": 4,
     "metadata": {},
     "output_type": "execute_result"
    }
   ],
   "source": [
    "ridership=ridership.drop('Column 1',1)\n",
    "ridership.head()"
   ]
  },
  {
   "cell_type": "code",
   "execution_count": 5,
   "metadata": {},
   "outputs": [],
   "source": [
    "ridership.to_csv(\"clean data/quarter_data_2019.csv\")"
   ]
  },
  {
   "cell_type": "code",
   "execution_count": null,
   "metadata": {},
   "outputs": [],
   "source": []
  }
 ],
 "metadata": {
  "kernelspec": {
   "display_name": "Python 3",
   "language": "python",
   "name": "python3"
  },
  "language_info": {
   "codemirror_mode": {
    "name": "ipython",
    "version": 3
   },
   "file_extension": ".py",
   "mimetype": "text/x-python",
   "name": "python",
   "nbconvert_exporter": "python",
   "pygments_lexer": "ipython3",
   "version": "3.7.3"
  }
 },
 "nbformat": 4,
 "nbformat_minor": 4
}
